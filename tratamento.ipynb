{
 "cells": [
  {
   "cell_type": "markdown",
   "metadata": {},
   "source": [
    "Tratamento cores da cadeiras"
   ]
  },
  {
   "cell_type": "code",
   "execution_count": 15,
   "metadata": {},
   "outputs": [],
   "source": [
    "import pandas as pd \n",
    "df = pd.read_excel('cadeiras.xlsx')\n",
    "def cores(titulo):\n",
    "    cores = [\n",
    "    'preto', 'preta', 'branco', 'branca', 'vermelho', 'vermelha', 'azul', 'cinza', 'verde', 'rosa',\n",
    "    'roxo', 'roxa', 'amarelo', 'amarela', 'laranja', 'marrom', 'bege', 'grafite', 'uva', 'geada', \n",
    "    'black', 'yellow', 'blue', 'green', 'graphite', 'grey', 'silver', 'red', 'white', 'maçã',\n",
    "    'ciano', 'camuflada', 'vinho', 'orange'\n",
    "]\n",
    "    titulo = titulo.lower()\n",
    "    for cor in cores:\n",
    "        if cor in titulo:\n",
    "            return cor\n",
    "    return 'deconhecido'\n",
    "df['cor'] = df['titulo'].apply(cores)\n",
    "df_tratado = df[['titulo', 'preco', 'cor']]  \n",
    "df_tratado.to_excel('cadeiras_tratado.xlsx', index=False)\n"
   ]
  },
  {
   "cell_type": "markdown",
   "metadata": {},
   "source": [
    "Tratamento converter os números de string para float"
   ]
  },
  {
   "cell_type": "code",
   "execution_count": 9,
   "metadata": {},
   "outputs": [
    {
     "name": "stdout",
     "output_type": "stream",
     "text": [
      "Arquivo processado com sucesso!\n"
     ]
    }
   ],
   "source": [
    "import pandas as pd\n",
    "df = pd.read_excel('cadeiras_tratado.xlsx')\n",
    "def limpar_preco(valor):\n",
    "    if pd.isna(valor):\n",
    "        return None\n",
    "    valor = str(valor)\n",
    "    valor = valor.replace('\\xa0', '')  # Remove espaço não quebrável\n",
    "    valor = valor.replace('R$', '')    # Remove símbolo R$\n",
    "    valor = valor.replace('.', '')     # Remove separador de milhar\n",
    "    valor = valor.replace(',', '.')    # Troca vírgula por ponto decimal\n",
    "    valor = valor.strip()              # Remove espaços em volta\n",
    "    try:\n",
    "        return float(valor)\n",
    "    except ValueError:\n",
    "        return None  # Ou np.nan, se preferir\n",
    "df['preco'] = df['preco'].apply(limpar_preco)\n",
    "df.to_excel('cadeiras_final.xlsx', index=False)\n",
    "print(\"Arquivo processado com sucesso!\")"
   ]
  }
 ],
 "metadata": {
  "kernelspec": {
   "display_name": "Python 3",
   "language": "python",
   "name": "python3"
  },
  "language_info": {
   "codemirror_mode": {
    "name": "ipython",
    "version": 3
   },
   "file_extension": ".py",
   "mimetype": "text/x-python",
   "name": "python",
   "nbconvert_exporter": "python",
   "pygments_lexer": "ipython3",
   "version": "3.12.1"
  }
 },
 "nbformat": 4,
 "nbformat_minor": 2
}
